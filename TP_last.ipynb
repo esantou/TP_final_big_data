{
 "cells": [
  {
   "cell_type": "code",
   "execution_count": 3,
   "metadata": {},
   "outputs": [],
   "source": [
    "from pyspark.sql import SparkSession\n",
    "import pyspark.sql.functions as F\n",
    "from pyspark.sql.functions import col\n",
    "from pyspark import SparkContext #SparkToDate"
   ]
  },
  {
   "cell_type": "code",
   "execution_count": 4,
   "metadata": {},
   "outputs": [],
   "source": [
    "spark = SparkSession.builder\\\n",
    "                    .master(\"local\")\\\n",
    "                    .appName(\"final\")\\\n",
    "                    .getOrCreate()\n"
   ]
  },
  {
   "cell_type": "code",
   "execution_count": 5,
   "metadata": {},
   "outputs": [
    {
     "name": "stdout",
     "output_type": "stream",
     "text": [
      "+-----+-----------------+\n",
      "|  aid|             name|\n",
      "+-----+-----------------+\n",
      "|07890| Jean Paul Sartre|\n",
      "|05678|Pierre de Ronsard|\n",
      "+-----+-----------------+\n",
      "\n"
     ]
    }
   ],
   "source": [
    "T1=[(\"07890\",\"Jean Paul Sartre\"),(\"05678\",\"Pierre de Ronsard\")]\n",
    "Rdd1=spark.sparkContext.parallelize(T1)\n",
    "Rdd1.collect()\n",
    "Author=Rdd1.toDF([\"aid\",\"name\"])\n",
    "Author.show()\n",
    "Author.createOrReplaceTempView(\"Author_sql\")"
   ]
  },
  {
   "cell_type": "code",
   "execution_count": 6,
   "metadata": {},
   "outputs": [
    {
     "name": "stdout",
     "output_type": "stream",
     "text": [
      "+----+--------------------+-----------+\n",
      "| bid|               title|   category|\n",
      "+----+--------------------+-----------+\n",
      "|0001|L'existentialisme...|Philosophie|\n",
      "|0002|Huis clos. Suivi ...|Philosophie|\n",
      "|0003|Mignonne allons v...|      Poeme|\n",
      "|0004|          Les Amours|      Poeme|\n",
      "+----+--------------------+-----------+\n",
      "\n"
     ]
    }
   ],
   "source": [
    "T2 = [(\"0001\", \"L'existentialisme est un humanisme\", \"Philosophie\"), (\"0002\", \"Huis clos. Suivi de Les Mouches\", \"Philosophie\"), (\"0003\", \"Mignonne allons voir si la rose\", \"Poeme\"), (\"0004\", \"Les Amours\", \"Poeme\")]\n",
    "RDD2 = spark.sparkContext.parallelize(T2)\n",
    "book = RDD2.toDF([\"bid\", \"title\", \"category\"])\n",
    "book.show()\n",
    "book.createOrReplaceTempView(\"book_SQL\")"
   ]
  },
  {
   "cell_type": "code",
   "execution_count": 7,
   "metadata": {},
   "outputs": [
    {
     "name": "stdout",
     "output_type": "stream",
     "text": [
      "+---+-----+---------+\n",
      "|sid|sname| category|\n",
      "+---+-----+---------+\n",
      "|S15| toto|     math|\n",
      "|S16| popo|      eco|\n",
      "|S17| fofo|mecanique|\n",
      "+---+-----+---------+\n",
      "\n"
     ]
    }
   ],
   "source": [
    "T3 = [(\"S15\", \"toto\", \"math\"), (\"S16\", \"popo\", \"eco\"), (\"S17\", \"fofo\", \"mecanique\")]\n",
    "RDD3 = spark.sparkContext.parallelize(T3)\n",
    "student = RDD3.toDF([\"sid\", \"sname\", \"category\"])\n",
    "student.show()\n",
    "student.createOrReplaceTempView(\"student_sql\")"
   ]
  },
  {
   "cell_type": "code",
   "execution_count": 8,
   "metadata": {},
   "outputs": [
    {
     "name": "stdout",
     "output_type": "stream",
     "text": [
      "+-----+----+\n",
      "|  aid| bid|\n",
      "+-----+----+\n",
      "|07890|0001|\n",
      "|07890|0002|\n",
      "|05678|0003|\n",
      "|05678|0003|\n",
      "+-----+----+\n",
      "\n"
     ]
    }
   ],
   "source": [
    "T4 = [(\"07890\", \"0001\"), (\"07890\", \"0002\"), (\"05678\", \"0003\"), (\"05678\", \"0003\") ]\n",
    "RDD4 = spark.sparkContext.parallelize(T4)\n",
    "write = RDD4.toDF([\"aid\", \"bid\"])\n",
    "write.show()\n",
    "write.createOrReplaceTempView(\"write_SQL\")"
   ]
  },
  {
   "cell_type": "code",
   "execution_count": 10,
   "metadata": {},
   "outputs": [
    {
     "name": "stdout",
     "output_type": "stream",
     "text": [
      "+---+----+-------------+-----------+\n",
      "|sid| bid|checkout_time|return_time|\n",
      "+---+----+-------------+-----------+\n",
      "|S15|0003|   02-01-2020| 01-02-2020|\n",
      "|S15|0002|   13-06-2020|       null|\n",
      "|S15|0001|   13-06-2020| 13-10-2020|\n",
      "|S16|0002|   24-01-2020| 24-01-2020|\n",
      "|S17|0001|   12-04-2020| 01-07-2020|\n",
      "+---+----+-------------+-----------+\n",
      "\n"
     ]
    }
   ],
   "source": [
    "T5 = [(\"S15\", \"0003\", \"02-01-2020\",\"01-02-2020\"), \n",
    "      (\"S15\", \"0002\", \"13-06-2020\",\"null\"), \n",
    "      (\"S15\", \"0001\", \"13-06-2020\",\"13-10-2020\"),\n",
    "      (\"S16\", \"0002\", \"24-01-2020\",\"24-01-2020\"),\n",
    "      (\"S17\", \"0001\", \"12-04-2020\",\"01-07-2020\")]\n",
    "RDD5 = spark.sparkContext.parallelize(T5)\n",
    "borrow = RDD5.toDF([\"sid\", \"bid\", \"checkout_time\",\"return_time\"])\n",
    "borrow.show()\n",
    "borrow.createOrReplaceTempView(\"borrow_sql\")"
   ]
  },
  {
   "cell_type": "markdown",
   "metadata": {},
   "source": [
    "##  1 Livres empruntés par S15"
   ]
  },
  {
   "cell_type": "markdown",
   "metadata": {},
   "source": [
    "METHODE DSL"
   ]
  },
  {
   "cell_type": "code",
   "execution_count": 11,
   "metadata": {},
   "outputs": [
    {
     "name": "stdout",
     "output_type": "stream",
     "text": [
      "+---+--------------------+\n",
      "|sid|               title|\n",
      "+---+--------------------+\n",
      "|S15|Huis clos. Suivi ...|\n",
      "|S15|Mignonne allons v...|\n",
      "|S15|L'existentialisme...|\n",
      "+---+--------------------+\n",
      "\n"
     ]
    }
   ],
   "source": [
    "student.join(borrow,[\"sid\"]).filter(col(\"sid\")==\"S15\").join(book,[\"bid\"]).select(col('sid'),col('title')).show()"
   ]
  },
  {
   "cell_type": "markdown",
   "metadata": {},
   "source": [
    "METHODE SQL"
   ]
  },
  {
   "cell_type": "code",
   "execution_count": 12,
   "metadata": {},
   "outputs": [
    {
     "name": "stdout",
     "output_type": "stream",
     "text": [
      "+---+--------------------+\n",
      "|sid|               title|\n",
      "+---+--------------------+\n",
      "|S15|Huis clos. Suivi ...|\n",
      "|S15|Mignonne allons v...|\n",
      "|S15|L'existentialisme...|\n",
      "+---+--------------------+\n",
      "\n"
     ]
    }
   ],
   "source": [
    "spark.sql(\"\"\" select sid,title from borrow_sql\n",
    "              left join book_sql on borrow_sql.bid=book_sql.bid\n",
    "          where sid=\"S15\"  \"\"\").show()"
   ]
  },
  {
   "cell_type": "markdown",
   "metadata": {},
   "source": [
    "## 2 Les livres jamais empruntés"
   ]
  },
  {
   "cell_type": "code",
   "execution_count": 13,
   "metadata": {},
   "outputs": [
    {
     "name": "stdout",
     "output_type": "stream",
     "text": [
      "+----------+\n",
      "|     title|\n",
      "+----------+\n",
      "|Les Amours|\n",
      "+----------+\n",
      "\n"
     ]
    }
   ],
   "source": [
    "\n",
    "book.join(borrow,[\"bid\"],how='full').filter(col('sid').isNull()).select(col('title')).show()"
   ]
  },
  {
   "cell_type": "code",
   "execution_count": 14,
   "metadata": {},
   "outputs": [
    {
     "name": "stdout",
     "output_type": "stream",
     "text": [
      "+----------+----+\n",
      "|     title| sid|\n",
      "+----------+----+\n",
      "|Les Amours|null|\n",
      "+----------+----+\n",
      "\n"
     ]
    }
   ],
   "source": [
    "spark.sql(\"\"\" select title,sid from borrow_sql\n",
    "              full join book_sql on borrow_sql.bid=book_sql.bid\n",
    "              where sid is null \"\"\").show()"
   ]
  },
  {
   "cell_type": "markdown",
   "metadata": {},
   "source": [
    "## 3 Etudiants qui ont emprunté le livre bid=0002"
   ]
  },
  {
   "cell_type": "code",
   "execution_count": 15,
   "metadata": {},
   "outputs": [
    {
     "name": "stdout",
     "output_type": "stream",
     "text": [
      "+-----+---+----+\n",
      "|sname|sid| bid|\n",
      "+-----+---+----+\n",
      "| popo|S16|0002|\n",
      "| toto|S15|0002|\n",
      "+-----+---+----+\n",
      "\n"
     ]
    }
   ],
   "source": [
    "\n",
    "student.join(borrow,[\"sid\"]).filter(col(\"bid\")==\"0002\").select(col('sname'),col('sid'),col('bid')).show()"
   ]
  },
  {
   "cell_type": "code",
   "execution_count": 16,
   "metadata": {},
   "outputs": [
    {
     "name": "stdout",
     "output_type": "stream",
     "text": [
      "+----+-----+\n",
      "| bid|sname|\n",
      "+----+-----+\n",
      "|0002| popo|\n",
      "|0002| toto|\n",
      "+----+-----+\n",
      "\n"
     ]
    }
   ],
   "source": [
    "spark.sql(\"\"\" select bid,sname from student_sql\n",
    "              left join borrow_sql on borrow_sql.sid=student_sql.sid\n",
    "              where bid=\"0002\" \"\"\").show()"
   ]
  },
  {
   "cell_type": "markdown",
   "metadata": {},
   "source": [
    "## 4 Livres empruntés par des étudiants en mecanique"
   ]
  },
  {
   "cell_type": "code",
   "execution_count": 17,
   "metadata": {},
   "outputs": [
    {
     "name": "stdout",
     "output_type": "stream",
     "text": [
      "+---+--------------------+\n",
      "|sid|               title|\n",
      "+---+--------------------+\n",
      "|S17|L'existentialisme...|\n",
      "+---+--------------------+\n",
      "\n"
     ]
    }
   ],
   "source": [
    "\n",
    "student.join(borrow,[\"sid\"]).filter(col(\"category\")==\"mecanique\").join(book,[\"bid\"]).select(col('sid'),col('title')).show()"
   ]
  },
  {
   "cell_type": "code",
   "execution_count": null,
   "metadata": {},
   "outputs": [],
   "source": [
    "spark.sql(\"\"\" select category,title from student_sql\n",
    "              left join borrow_sql on borrow_sql.sid=student_sql.sid\n",
    "              where category=\"mecanique\" \"\"\").show()"
   ]
  },
  {
   "cell_type": "markdown",
   "metadata": {},
   "source": [
    "## 5 Etudiants n'ayant jamais emprunté de livre"
   ]
  },
  {
   "cell_type": "code",
   "execution_count": 20,
   "metadata": {},
   "outputs": [
    {
     "name": "stdout",
     "output_type": "stream",
     "text": [
      "+---+-----+--------+---+-------------+-----------+\n",
      "|sid|sname|category|bid|checkout_time|return_time|\n",
      "+---+-----+--------+---+-------------+-----------+\n",
      "+---+-----+--------+---+-------------+-----------+\n",
      "\n"
     ]
    }
   ],
   "source": [
    "\n",
    "student.join(borrow,[\"sid\"],how='full').filter(col('sid').isNull()).show()"
   ]
  },
  {
   "cell_type": "code",
   "execution_count": 21,
   "metadata": {},
   "outputs": [
    {
     "name": "stdout",
     "output_type": "stream",
     "text": [
      "+---+---+-------------+-----------+---+-----+--------+\n",
      "|sid|bid|checkout_time|return_time|sid|sname|category|\n",
      "+---+---+-------------+-----------+---+-----+--------+\n",
      "+---+---+-------------+-----------+---+-----+--------+\n",
      "\n"
     ]
    }
   ],
   "source": [
    "spark.sql(\"\"\" select * from borrow_sql\n",
    "              full join student_sql on borrow_sql.sid=student_sql.sid\n",
    "              where sname is null \"\"\").show()"
   ]
  },
  {
   "cell_type": "markdown",
   "metadata": {},
   "source": [
    "## 6 Auteur avec plus de livres écrits\n"
   ]
  },
  {
   "cell_type": "code",
   "execution_count": 22,
   "metadata": {},
   "outputs": [
    {
     "name": "stdout",
     "output_type": "stream",
     "text": [
      "+-----------------+-----------+\n",
      "|             name|count(name)|\n",
      "+-----------------+-----------+\n",
      "| Jean Paul Sartre|          2|\n",
      "|Pierre de Ronsard|          2|\n",
      "+-----------------+-----------+\n",
      "\n"
     ]
    }
   ],
   "source": [
    "Author.join(write,['aid']).groupBy(col('name')).agg(F.count(col('name'))).show()"
   ]
  },
  {
   "cell_type": "code",
   "execution_count": 23,
   "metadata": {},
   "outputs": [
    {
     "name": "stdout",
     "output_type": "stream",
     "text": [
      "+-----------------+---+\n",
      "|             name|cnt|\n",
      "+-----------------+---+\n",
      "| Jean Paul Sartre|  2|\n",
      "|Pierre de Ronsard|  2|\n",
      "+-----------------+---+\n",
      "\n"
     ]
    }
   ],
   "source": [
    "spark.sql(\"\"\" select name,count(*) as cnt from write_SQL\n",
    "              left join Author_sql on write_SQL.aid=Author_sql.aid\n",
    "              group by name\"\"\").show()"
   ]
  },
  {
   "cell_type": "markdown",
   "metadata": {},
   "source": [
    "## 7 Etudiant qui n'a pas encore rendu de livre"
   ]
  },
  {
   "cell_type": "code",
   "execution_count": 24,
   "metadata": {},
   "outputs": [
    {
     "name": "stdout",
     "output_type": "stream",
     "text": [
      "+---+----+-------------+-----------+-----+--------+\n",
      "|sid| bid|checkout_time|return_time|sname|category|\n",
      "+---+----+-------------+-----------+-----+--------+\n",
      "|S15|0002|   13-06-2020|       null| toto|    math|\n",
      "+---+----+-------------+-----------+-----+--------+\n",
      "\n"
     ]
    }
   ],
   "source": [
    "\n",
    "borrow.join(student,['sid']).filter(col('return_time')==\"null\").show()"
   ]
  },
  {
   "cell_type": "code",
   "execution_count": 25,
   "metadata": {},
   "outputs": [
    {
     "name": "stdout",
     "output_type": "stream",
     "text": [
      "+-----+\n",
      "|sname|\n",
      "+-----+\n",
      "| toto|\n",
      "+-----+\n",
      "\n"
     ]
    }
   ],
   "source": [
    "spark.sql(\"\"\" select sname from borrow_sql\n",
    "              left join student_sql on borrow_sql.sid=student_sql.sid\n",
    "              where return_time =\"null\" \"\"\").show()"
   ]
  },
  {
   "cell_type": "markdown",
   "metadata": {},
   "source": [
    "## 8 Nouvelle colonne dans la table borrow et export des données"
   ]
  },
  {
   "cell_type": "code",
   "execution_count": 26,
   "metadata": {},
   "outputs": [],
   "source": [
    "borrow.withColumn(\"check_to_date\", F.to_date(F.col(\"checkout_time\"), \"dd-MM-yyyy\"))\\\n",
    "    .withColumn(\"ret_to_date\", F.to_date(F.col(\"return_time\"), \"dd-MM-yyyy\"))\\\n",
    "    .withColumn(\"Duree\", F.datediff(F.col(\"ret_to_date\"), F.col(\"check_to_date\")))\\\n",
    "    .withColumn(\"3mois+\", (F.when(F.col(\"Duree\")>=90, 1).otherwise(0)))\\\n",
    "    .toPandas().to_csv('retour.csv')"
   ]
  },
  {
   "cell_type": "code",
   "execution_count": null,
   "metadata": {},
   "outputs": [],
   "source": []
  }
 ],
 "metadata": {
  "kernelspec": {
   "display_name": "Python 3",
   "language": "python",
   "name": "python3"
  }
 },
 "nbformat": 4,
 "nbformat_minor": 2
}
